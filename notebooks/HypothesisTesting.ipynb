{
 "cells": [
  {
   "cell_type": "markdown",
   "metadata": {},
   "source": [
    "Week 2 Challenge: A/B Hypothesis Testing: Ad campaign performance \n",
    "\n",
    "  Objective:\n",
    "\n",
    "The main objective of this project is to test if the ads that the advertising company runs resulted in a significant lift in brand awareness. "
   ]
  },
  {
   "cell_type": "code",
   "execution_count": 2,
   "metadata": {},
   "outputs": [],
   "source": [
    "# importing Packages\n",
    "import numpy as np\n",
    "import pandas as pd\n",
    "import seaborn as sns\n",
    "import matplotlib.pyplot as plt\n",
    "%matplotlib inline\n",
    "import warnings\n",
    "import scipy\n",
    "from scipy import stats\n"
   ]
  },
  {
   "cell_type": "code",
   "execution_count": 3,
   "metadata": {},
   "outputs": [],
   "source": [
    "warnings.filterwarnings('ignore')\n",
    "pd.set_option('max_column', None)\n",
    "pd.set_option('display.float_format',lambda x:'%5f'%x)\n",
    "db = pd.read_csv('../Data/AdSmartABdata.csv')"
   ]
  },
  {
   "cell_type": "markdown",
   "metadata": {},
   "source": [
    " Data Understanding"
   ]
  },
  {
   "cell_type": "code",
   "execution_count": 4,
   "metadata": {},
   "outputs": [
    {
     "data": {
      "text/html": [
       "<div>\n",
       "<style scoped>\n",
       "    .dataframe tbody tr th:only-of-type {\n",
       "        vertical-align: middle;\n",
       "    }\n",
       "\n",
       "    .dataframe tbody tr th {\n",
       "        vertical-align: top;\n",
       "    }\n",
       "\n",
       "    .dataframe thead th {\n",
       "        text-align: right;\n",
       "    }\n",
       "</style>\n",
       "<table border=\"1\" class=\"dataframe\">\n",
       "  <thead>\n",
       "    <tr style=\"text-align: right;\">\n",
       "      <th></th>\n",
       "      <th>auction_id</th>\n",
       "      <th>experiment</th>\n",
       "      <th>date</th>\n",
       "      <th>hour</th>\n",
       "      <th>device_make</th>\n",
       "      <th>platform_os</th>\n",
       "      <th>browser</th>\n",
       "      <th>yes</th>\n",
       "      <th>no</th>\n",
       "    </tr>\n",
       "  </thead>\n",
       "  <tbody>\n",
       "    <tr>\n",
       "      <th>0</th>\n",
       "      <td>0008ef63-77a7-448b-bd1e-075f42c55e39</td>\n",
       "      <td>exposed</td>\n",
       "      <td>2020-07-10</td>\n",
       "      <td>8</td>\n",
       "      <td>Generic Smartphone</td>\n",
       "      <td>6</td>\n",
       "      <td>Chrome Mobile</td>\n",
       "      <td>0</td>\n",
       "      <td>0</td>\n",
       "    </tr>\n",
       "    <tr>\n",
       "      <th>1</th>\n",
       "      <td>000eabc5-17ce-4137-8efe-44734d914446</td>\n",
       "      <td>exposed</td>\n",
       "      <td>2020-07-07</td>\n",
       "      <td>10</td>\n",
       "      <td>Generic Smartphone</td>\n",
       "      <td>6</td>\n",
       "      <td>Chrome Mobile</td>\n",
       "      <td>0</td>\n",
       "      <td>0</td>\n",
       "    </tr>\n",
       "    <tr>\n",
       "      <th>2</th>\n",
       "      <td>0016d14a-ae18-4a02-a204-6ba53b52f2ed</td>\n",
       "      <td>exposed</td>\n",
       "      <td>2020-07-05</td>\n",
       "      <td>2</td>\n",
       "      <td>E5823</td>\n",
       "      <td>6</td>\n",
       "      <td>Chrome Mobile WebView</td>\n",
       "      <td>0</td>\n",
       "      <td>1</td>\n",
       "    </tr>\n",
       "    <tr>\n",
       "      <th>3</th>\n",
       "      <td>00187412-2932-4542-a8ef-3633901c98d9</td>\n",
       "      <td>control</td>\n",
       "      <td>2020-07-03</td>\n",
       "      <td>15</td>\n",
       "      <td>Samsung SM-A705FN</td>\n",
       "      <td>6</td>\n",
       "      <td>Facebook</td>\n",
       "      <td>0</td>\n",
       "      <td>0</td>\n",
       "    </tr>\n",
       "    <tr>\n",
       "      <th>4</th>\n",
       "      <td>001a7785-d3fe-4e11-a344-c8735acacc2c</td>\n",
       "      <td>control</td>\n",
       "      <td>2020-07-03</td>\n",
       "      <td>15</td>\n",
       "      <td>Generic Smartphone</td>\n",
       "      <td>6</td>\n",
       "      <td>Chrome Mobile</td>\n",
       "      <td>0</td>\n",
       "      <td>0</td>\n",
       "    </tr>\n",
       "  </tbody>\n",
       "</table>\n",
       "</div>"
      ],
      "text/plain": [
       "                             auction_id experiment        date  hour  \\\n",
       "0  0008ef63-77a7-448b-bd1e-075f42c55e39    exposed  2020-07-10     8   \n",
       "1  000eabc5-17ce-4137-8efe-44734d914446    exposed  2020-07-07    10   \n",
       "2  0016d14a-ae18-4a02-a204-6ba53b52f2ed    exposed  2020-07-05     2   \n",
       "3  00187412-2932-4542-a8ef-3633901c98d9    control  2020-07-03    15   \n",
       "4  001a7785-d3fe-4e11-a344-c8735acacc2c    control  2020-07-03    15   \n",
       "\n",
       "          device_make  platform_os                browser  yes  no  \n",
       "0  Generic Smartphone            6          Chrome Mobile    0   0  \n",
       "1  Generic Smartphone            6          Chrome Mobile    0   0  \n",
       "2               E5823            6  Chrome Mobile WebView    0   1  \n",
       "3   Samsung SM-A705FN            6               Facebook    0   0  \n",
       "4  Generic Smartphone            6          Chrome Mobile    0   0  "
      ]
     },
     "execution_count": 4,
     "metadata": {},
     "output_type": "execute_result"
    }
   ],
   "source": [
    "db.head()"
   ]
  },
  {
   "cell_type": "code",
   "execution_count": 5,
   "metadata": {},
   "outputs": [
    {
     "data": {
      "text/plain": [
       "72693"
      ]
     },
     "execution_count": 5,
     "metadata": {},
     "output_type": "execute_result"
    }
   ],
   "source": [
    "# size of the data\n",
    "db.size"
   ]
  },
  {
   "cell_type": "code",
   "execution_count": 6,
   "metadata": {},
   "outputs": [
    {
     "data": {
      "text/plain": [
       "(8077, 9)"
      ]
     },
     "execution_count": 6,
     "metadata": {},
     "output_type": "execute_result"
    }
   ],
   "source": [
    "db.shape"
   ]
  },
  {
   "cell_type": "code",
   "execution_count": 7,
   "metadata": {},
   "outputs": [
    {
     "data": {
      "text/plain": [
       "auction_id     object\n",
       "experiment     object\n",
       "date           object\n",
       "hour            int64\n",
       "device_make    object\n",
       "platform_os     int64\n",
       "browser        object\n",
       "yes             int64\n",
       "no              int64\n",
       "dtype: object"
      ]
     },
     "execution_count": 7,
     "metadata": {},
     "output_type": "execute_result"
    }
   ],
   "source": [
    "# data type of the data frame\n",
    "db.dtypes"
   ]
  },
  {
   "cell_type": "code",
   "execution_count": 8,
   "metadata": {},
   "outputs": [],
   "source": [
    "db['date'] = pd.to_datetime(db['date'])"
   ]
  },
  {
   "cell_type": "markdown",
   "metadata": {},
   "source": [
    "Task 1.2 Classic and sequential A/B testing analysis"
   ]
  },
  {
   "cell_type": "code",
   "execution_count": 9,
   "metadata": {},
   "outputs": [
    {
     "name": "stdout",
     "output_type": "stream",
     "text": [
      "The number of unique devices:  270\n",
      "Unique Browsers:  ['Chrome Mobile' 'Chrome Mobile WebView' 'Facebook' 'Mobile Safari'\n",
      " 'Chrome Mobile iOS' 'Samsung Internet' 'Mobile Safari UI/WKWebView'\n",
      " 'Chrome' 'Opera Mini' 'Edge Mobile' 'Android' 'Pinterest' 'Opera Mobile'\n",
      " 'Firefox Mobile' 'Puffin']\n",
      "platform_os:  [6 5 7]\n"
     ]
    }
   ],
   "source": [
    "# Data exploration\n",
    "# printing number of unique values and unique values\n",
    "print('The number of unique devices: ', db['device_make'].nunique())\n",
    "print('Unique Browsers: ', db['browser'].unique())\n",
    "print('platform_os: ', db['platform_os'].unique())\n"
   ]
  },
  {
   "cell_type": "code",
   "execution_count": 10,
   "metadata": {},
   "outputs": [
    {
     "data": {
      "text/plain": [
       "auction_id     0\n",
       "experiment     0\n",
       "date           0\n",
       "hour           0\n",
       "device_make    0\n",
       "platform_os    0\n",
       "browser        0\n",
       "yes            0\n",
       "no             0\n",
       "dtype: int64"
      ]
     },
     "execution_count": 10,
     "metadata": {},
     "output_type": "execute_result"
    }
   ],
   "source": [
    "# checking if missing values are there\n",
    "db.isnull().sum()"
   ]
  },
  {
   "cell_type": "code",
   "execution_count": 31,
   "metadata": {},
   "outputs": [],
   "source": [
    "# plotting functions\n",
    "def plot_hist(df:pd.DataFrame, column:str, color:str)->None:\n",
    "    plt.figure(figsize=(9, 7))\n",
    "    sns.displot(data=df, x=column, color=color, kde=True, height=7, aspect=2)\n",
    "    plt.title(f'Distribution of {column}', size=20, fontweight='bold')\n",
    "    \n",
    "def plot_dist(df:pd.DataFrame, column:str):\n",
    "    plt.figure(figsize=(9,7))\n",
    "    sns.distplot(df).set_title(f'Distribution of {column}')\n",
    "    \n",
    "\n",
    "\n",
    "def plot_count(df:pd.DataFrame, column:str) -> None:\n",
    "    plt.figure(figsize=(12, 7))\n",
    "    sns.countplot(data=df, x=column)\n",
    "    plt.title(f'Plot count of {column}', size=20, fontweight='bold')\n",
    "    \n",
    "def plot_bar(df:pd.DataFrame, x_col:str, y_col:str, title:str, xlabel:str, ylabel:str)->None:\n",
    "    plt.figure(figsize=(12, 7))\n",
    "    sns.barplot(data = df, x=x_col, y=y_col)\n",
    "    plt.title(title, size=20)\n",
    "    plt.xticks(rotation=75, fontsize=14)\n",
    "    plt.yticks( fontsize=14)\n",
    "    plt.xlabel(xlabel, fontsize=16)\n",
    "    plt.ylabel(ylabel, fontsize=16)\n",
    "    \n",
    "\n",
    "def plot_heatmap(df:pd.DataFrame, title:str, cbar=False)->None:\n",
    "    plt.figure(figsize=(12, 7))\n",
    "    sns.heatmap(df, annot=True, cmap='viridis', vmin=0, vmax=1, fmt='.2f', linewidths=.7, cbar=cbar )\n",
    "    plt.title(title, size=18, fontweight='bold')\n",
    "    \n",
    "\n",
    "def plot_box(df:pd.DataFrame, x_col:str, title:str) -> None:\n",
    "    plt.figure(figsize=(12, 7))\n",
    "    sns.boxplot(data = df, x=x_col)\n",
    "    plt.title(title, size=20)\n",
    "    plt.xticks(rotation=75, fontsize=14)\n",
    "    \n",
    "def plot_box_multi(df:pd.DataFrame, x_col:str, y_col:str, title:str) -> None:\n",
    "    plt.figure(figsize=(12, 7))\n",
    "    sns.boxplot(data = df, x=x_col, y=y_col)\n",
    "    plt.title(title, size=20)\n",
    "    plt.xticks(rotation=75, fontsize=14)\n",
    "    plt.yticks( fontsize=14)\n",
    "    \n",
    "\n",
    "def plot_scatter(df: pd.DataFrame, x_col: str, y_col: str, title: str, hue: str, style: str) -> None:\n",
    "    plt.figure(figsize=(10, 8))\n",
    "    sns.scatterplot(data = df, x=x_col, y=y_col, hue=hue, style=style)\n",
    "    plt.title(title, size=20)\n",
    "    plt.xticks(fontsize=14)\n",
    "    plt.yticks( fontsize=14)\n",
    "\n",
    "def plot_counttwo(df,col1,col2):\n",
    "    plt.figure(figsize=(12,8))\n",
    "    plt.subplot(1,2,1)\n",
    "    sns.countplot(data=df, x=col1,palette='summer')\n",
    "    plt.title(f'Distribution of {col1}', size=16, fontweight='bold')\n",
    "    plt.xticks(rotation=70)\n",
    "    \n",
    "    plt.subplot(1,2,2)\n",
    "    sns.countplot(data=df, x=col2,palette='summer_r')\n",
    "    plt.title(f'Distribution of {col2}', size=16, fontweight='bold')\n",
    "    plt.xticks(rotation=70)\n",
    "    plt.show()"
   ]
  },
  {
   "cell_type": "code",
   "execution_count": 13,
   "metadata": {},
   "outputs": [
    {
     "data": {
      "image/png": "[encoded data removed]",
      "text/plain": [
       "<Figure size 1008x360 with 1 Axes>"
      ]
     },
     "metadata": {
      "needs_background": "light"
     },
     "output_type": "display_data"
    }
   ],
   "source": [
    "# plotting the experiment column\n",
    "plot_count(db,'experiment')"
   ]
  },
  {
   "cell_type": "markdown",
   "metadata": {},
   "source": [
    "**As we can see from the figure the online users are equally distributed to the exposed and control groups.**  "
   ]
  },
  {
   "cell_type": "code",
   "execution_count": 33,
   "metadata": {},
   "outputs": [
    {
     "data": {
      "image/png": "[encoded data removed]",
      "text/plain": [
       "<Figure size 864x576 with 2 Axes>"
      ]
     },
     "metadata": {
      "needs_background": "light"
     },
     "output_type": "display_data"
    }
   ],
   "source": [
    "plot_counttwo(db,'yes','no')"
   ]
  },
  {
   "cell_type": "markdown",
   "metadata": {},
   "source": [
    "**As we can see from the figure most of the users did not answer the questions.**"
   ]
  },
  {
   "cell_type": "code",
   "execution_count": 21,
   "metadata": {},
   "outputs": [
    {
     "data": {
      "image/png": "[encoded data removed]",
      "text/plain": [
       "<Figure size 1008x360 with 1 Axes>"
      ]
     },
     "metadata": {
      "needs_background": "light"
     },
     "output_type": "display_data"
    }
   ],
   "source": [
    "plot_count(db, 'date')"
   ]
  },
  {
   "cell_type": "markdown",
   "metadata": {},
   "source": [
    "**As we can see from the figure most of the users has engaged with the question at the first day.**"
   ]
  },
  {
   "cell_type": "code",
   "execution_count": 23,
   "metadata": {},
   "outputs": [
    {
     "data": {
      "image/png": "[encoded data removed]",
      "text/plain": [
       "<Figure size 1008x360 with 1 Axes>"
      ]
     },
     "metadata": {
      "needs_background": "light"
     },
     "output_type": "display_data"
    }
   ],
   "source": [
    "plot_count(db, 'hour')"
   ]
  },
  {
   "cell_type": "markdown",
   "metadata": {},
   "source": [
    "**Most of the users were engaged to the question around 12pm UTc**"
   ]
  },
  {
   "cell_type": "markdown",
   "metadata": {},
   "source": [
    "**Hypothesis testing**\n",
    "\n",
    "**To perform hypothesis testing there are many rows that does not have 1 in either yes or no columns.**\n",
    "* let us see if this types of users are evenly distributed to the groups"
   ]
  },
  {
   "cell_type": "code",
   "execution_count": 52,
   "metadata": {},
   "outputs": [],
   "source": [
    "# locating the rows which have control and which have exposed\n",
    "control = db.loc[db['experiment'] == 'control']\n",
    "exposed = db.loc[db['experiment'] == 'exposed']"
   ]
  },
  {
   "cell_type": "code",
   "execution_count": 53,
   "metadata": {},
   "outputs": [],
   "source": [
    "# locating the rows for both of groups for whom the users  did not answer the question\n",
    "control_unanswered = db.loc[(db['yes'] == 0) & (db['no'] == 0) & (db['experiment'] == 'control')]\n",
    "exposed_unanswered = db.loc[(db['yes'] == 0) & (db['no'] == 0) & (db['experiment'] == 'exposed')]"
   ]
  },
  {
   "cell_type": "code",
   "execution_count": 54,
   "metadata": {},
   "outputs": [
    {
     "data": {
      "text/plain": [
       "85.60550233357898"
      ]
     },
     "execution_count": 54,
     "metadata": {},
     "output_type": "execute_result"
    }
   ],
   "source": [
    "# finding the percent of the users who did not answer for control group\n",
    "control_unanswered.shape[0]/control.shape[0] * 100"
   ]
  },
  {
   "cell_type": "code",
   "execution_count": 55,
   "metadata": {},
   "outputs": [
    {
     "data": {
      "text/plain": [
       "83.59960059910134"
      ]
     },
     "execution_count": 55,
     "metadata": {},
     "output_type": "execute_result"
    }
   ],
   "source": [
    "# finding the percent of the users who did not answer for exposed group\n",
    "exposed_unanswered.shape[0]/exposed.shape[0] * 100"
   ]
  },
  {
   "cell_type": "markdown",
   "metadata": {},
   "source": [
    "**The number of the users that did not answer the question for both of the group are almost similar so if we drop those rows it will not affect our analysis.**"
   ]
  },
  {
   "cell_type": "code",
   "execution_count": 17,
   "metadata": {},
   "outputs": [
    {
     "data": {
      "text/plain": [
       "(1243, 9)"
      ]
     },
     "execution_count": 17,
     "metadata": {},
     "output_type": "execute_result"
    }
   ],
   "source": [
    "newdb = db.drop(db[(db['yes'] ==0) &(db['no']==0)].index)\n",
    "newdb.shape"
   ]
  },
  {
   "cell_type": "markdown",
   "metadata": {},
   "source": [
    "* <h2>Based on the above plots the exposed group seems to have more counts of yes than the exposed group.But We can not conclude based on the difference only that the SmartAd increased brand awareness<h2>"
   ]
  },
  {
   "cell_type": "markdown",
   "metadata": {},
   "source": [
    "<h1> Classical testing analysis</h1>\n",
    "\n",
    "<h2>Performing hypothesis testing: For hypothesis testing we need to have two sample hypothesis which are the Null hypothesis and the Alternative hypothesis, the hypothesis are as follows</h2>\n",
    "\n",
    "**Null hypothesis:** there is no significant difference in brand awareness between the exposed and control groups it is just natural variance\n",
    "\n",
    "**Alternate hypothesis:** there is a significant difference in brand awareness between the exposed and control groups \n",
    "\n",
    "* To reject our null hypothesis, we have to prove that there is a statistically significant difference \n",
    "\n",
    "* Given that the outcome of the questionnaire is binary, we use the chi-square test method to check whether the differences of the control and experiment groups were significant"
   ]
  },
  {
   "cell_type": "code",
   "execution_count": 18,
   "metadata": {},
   "outputs": [
    {
     "data": {
      "text/html": [
       "<div>\n",
       "<style scoped>\n",
       "    .dataframe tbody tr th:only-of-type {\n",
       "        vertical-align: middle;\n",
       "    }\n",
       "\n",
       "    .dataframe tbody tr th {\n",
       "        vertical-align: top;\n",
       "    }\n",
       "\n",
       "    .dataframe thead th {\n",
       "        text-align: right;\n",
       "    }\n",
       "</style>\n",
       "<table border=\"1\" class=\"dataframe\">\n",
       "  <thead>\n",
       "    <tr style=\"text-align: right;\">\n",
       "      <th></th>\n",
       "      <th>yes</th>\n",
       "      <th>no</th>\n",
       "    </tr>\n",
       "    <tr>\n",
       "      <th>experiment</th>\n",
       "      <th></th>\n",
       "      <th></th>\n",
       "    </tr>\n",
       "  </thead>\n",
       "  <tbody>\n",
       "    <tr>\n",
       "      <th>control</th>\n",
       "      <td>264</td>\n",
       "      <td>322</td>\n",
       "    </tr>\n",
       "    <tr>\n",
       "      <th>exposed</th>\n",
       "      <td>308</td>\n",
       "      <td>349</td>\n",
       "    </tr>\n",
       "  </tbody>\n",
       "</table>\n",
       "</div>"
      ],
      "text/plain": [
       "            yes   no\n",
       "experiment          \n",
       "control     264  322\n",
       "exposed     308  349"
      ]
     },
     "execution_count": 18,
     "metadata": {},
     "output_type": "execute_result"
    }
   ],
   "source": [
    "#Creating a table with a summary of the observed outcomes\n",
    "df=newdb.groupby('experiment').agg({'yes':'sum','no':'sum'})\n",
    "\n",
    "df.head()"
   ]
  },
  {
   "cell_type": "code",
   "execution_count": 19,
   "metadata": {},
   "outputs": [
    {
     "name": "stdout",
     "output_type": "stream",
     "text": [
      "0.518486498219898\n"
     ]
    }
   ],
   "source": [
    "#Chi-square test \n",
    "controlyes=df['yes'][0]\n",
    "controlno=df['no'][0]\n",
    "exposedyes=df['yes'][1]\n",
    "exposedno=df['no'][1]\n",
    "\n",
    "#create np array\n",
    "arr = np.array([[controlyes,controlno],[exposedyes,exposedno]])\n",
    "\n",
    "print(scipy.stats.chi2_contingency(arr,correction=False)[1])"
   ]
  },
  {
   "cell_type": "markdown",
   "metadata": {},
   "source": [
    "**To reject the null Hypothesis the p value must be less than 0.05 but in our case the p value is way greater than 0.05. so the alternate hypothesis is rejected.**"
   ]
  }
 ],
 "metadata": {
  "interpreter": {
   "hash": "9c0f1e318bdb47e5f7ab1d1d2f2405942288e15c333a08ed2515f61b70143952"
  },
  "kernelspec": {
   "display_name": "Python 3.8.8 64-bit ('base': conda)",
   "name": "python3"
  },
  "language_info": {
   "codemirror_mode": {
    "name": "ipython",
    "version": 3
   },
   "file_extension": ".py",
   "mimetype": "text/x-python",
   "name": "python",
   "nbconvert_exporter": "python",
   "pygments_lexer": "ipython3",
   "version": "3.8.8"
  },
  "orig_nbformat": 4
 },
 "nbformat": 4,
 "nbformat_minor": 2
}